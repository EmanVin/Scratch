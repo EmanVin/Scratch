{
  "nbformat": 4,
  "nbformat_minor": 0,
  "metadata": {
    "colab": {
      "provenance": [],
      "authorship_tag": "ABX9TyP5SWuyzXuKzQUaL81eFGe1",
      "include_colab_link": true
    },
    "kernelspec": {
      "name": "python3",
      "display_name": "Python 3"
    },
    "language_info": {
      "name": "python"
    }
  },
  "cells": [
    {
      "cell_type": "markdown",
      "metadata": {
        "id": "view-in-github",
        "colab_type": "text"
      },
      "source": [
        "<a href=\"https://colab.research.google.com/github/EmanVin/Scratch/blob/Sandbox/CoffeeEmbedding.ipynb\" target=\"_parent\"><img src=\"https://colab.research.google.com/assets/colab-badge.svg\" alt=\"Open In Colab\"/></a>"
      ]
    },
    {
      "cell_type": "code",
      "source": [
        "pip install umap-learn"
      ],
      "metadata": {
        "colab": {
          "base_uri": "https://localhost:8080/"
        },
        "id": "UVwjtBjHS1GG",
        "outputId": "69430d28-fcf8-48ad-86dd-1233ba320d83"
      },
      "execution_count": null,
      "outputs": [
        {
          "output_type": "stream",
          "name": "stdout",
          "text": [
            "Looking in indexes: https://pypi.org/simple, https://us-python.pkg.dev/colab-wheels/public/simple/\n",
            "Collecting umap-learn\n",
            "  Downloading umap-learn-0.5.3.tar.gz (88 kB)\n",
            "\u001b[2K     \u001b[90m━━━━━━━━━━━━━━━━━━━━━━━━━━━━━━━━━━━━━━━━\u001b[0m \u001b[32m88.2/88.2 KB\u001b[0m \u001b[31m3.5 MB/s\u001b[0m eta \u001b[36m0:00:00\u001b[0m\n",
            "\u001b[?25h  Preparing metadata (setup.py) ... \u001b[?25l\u001b[?25hdone\n",
            "Requirement already satisfied: numpy>=1.17 in /usr/local/lib/python3.9/dist-packages (from umap-learn) (1.22.4)\n",
            "Requirement already satisfied: scikit-learn>=0.22 in /usr/local/lib/python3.9/dist-packages (from umap-learn) (1.2.2)\n",
            "Requirement already satisfied: scipy>=1.0 in /usr/local/lib/python3.9/dist-packages (from umap-learn) (1.10.1)\n",
            "Requirement already satisfied: numba>=0.49 in /usr/local/lib/python3.9/dist-packages (from umap-learn) (0.56.4)\n",
            "Collecting pynndescent>=0.5\n",
            "  Downloading pynndescent-0.5.8.tar.gz (1.1 MB)\n",
            "\u001b[2K     \u001b[90m━━━━━━━━━━━━━━━━━━━━━━━━━━━━━━━━━━━━━━━━\u001b[0m \u001b[32m1.1/1.1 MB\u001b[0m \u001b[31m29.2 MB/s\u001b[0m eta \u001b[36m0:00:00\u001b[0m\n",
            "\u001b[?25h  Preparing metadata (setup.py) ... \u001b[?25l\u001b[?25hdone\n",
            "Requirement already satisfied: tqdm in /usr/local/lib/python3.9/dist-packages (from umap-learn) (4.65.0)\n",
            "Requirement already satisfied: llvmlite<0.40,>=0.39.0dev0 in /usr/local/lib/python3.9/dist-packages (from numba>=0.49->umap-learn) (0.39.1)\n",
            "Requirement already satisfied: setuptools in /usr/local/lib/python3.9/dist-packages (from numba>=0.49->umap-learn) (63.4.3)\n",
            "Requirement already satisfied: joblib>=0.11 in /usr/local/lib/python3.9/dist-packages (from pynndescent>=0.5->umap-learn) (1.1.1)\n",
            "Requirement already satisfied: threadpoolctl>=2.0.0 in /usr/local/lib/python3.9/dist-packages (from scikit-learn>=0.22->umap-learn) (3.1.0)\n",
            "Building wheels for collected packages: umap-learn, pynndescent\n",
            "  Building wheel for umap-learn (setup.py) ... \u001b[?25l\u001b[?25hdone\n",
            "  Created wheel for umap-learn: filename=umap_learn-0.5.3-py3-none-any.whl size=82830 sha256=8438c79f23259f2c1b88fc9d5ed86421d6a6343f98d636287b9c2ff06afaf8c0\n",
            "  Stored in directory: /root/.cache/pip/wheels/f4/3e/1c/596d0a463d17475af648688443fa4846fef624d1390339e7e9\n",
            "  Building wheel for pynndescent (setup.py) ... \u001b[?25l\u001b[?25hdone\n",
            "  Created wheel for pynndescent: filename=pynndescent-0.5.8-py3-none-any.whl size=55509 sha256=fee2347559c9f1e14b941e9849717821a5fc71d86f3761d163f0629bc9698370\n",
            "  Stored in directory: /root/.cache/pip/wheels/b9/89/cc/59ab91ef5b21dc2ab3635528d7d227f49dfc9169905dcb959d\n",
            "Successfully built umap-learn pynndescent\n",
            "Installing collected packages: pynndescent, umap-learn\n",
            "Successfully installed pynndescent-0.5.8 umap-learn-0.5.3\n"
          ]
        }
      ]
    },
    {
      "cell_type": "code",
      "execution_count": null,
      "metadata": {
        "colab": {
          "base_uri": "https://localhost:8080/"
        },
        "id": "FURlA_y0SRWL",
        "outputId": "d8b5387b-4d87-4e5b-ad17-67a03b3b889c"
      },
      "outputs": [
        {
          "output_type": "execute_result",
          "data": {
            "text/plain": [
              "(333, 2)"
            ]
          },
          "metadata": {},
          "execution_count": 4
        }
      ],
      "source": [
        "import numpy as np\n",
        "import numba\n",
        "import umap\n",
        "import pandas as pd\n",
        "import numpy as np\n",
        "import sklearn\n",
        "from sklearn.datasets import load_digits\n",
        "from sklearn.model_selection import train_test_split\n",
        "from sklearn.preprocessing import StandardScaler\n",
        "import matplotlib.pyplot as plt\n",
        "import seaborn as sns\n",
        "import pandas as pd\n",
        "%matplotlib inline\n",
        "\n",
        "penguins = pd.read_csv(\"https://raw.githubusercontent.com/allisonhorst/palmerpenguins/c19a904462482430170bfe2c718775ddb7dbb885/inst/extdata/penguins.csv\")\n",
        "penguins.head()\n",
        "\n",
        "penguins = penguins.dropna()\n",
        "penguins.species.value_counts()\n",
        "\n",
        "reducer = umap.UMAP()\n",
        "penguin_data = penguins[\n",
        "    [\n",
        "        \"bill_length_mm\",\n",
        "        \"bill_depth_mm\",\n",
        "        \"flipper_length_mm\",\n",
        "        \"body_mass_g\",\n",
        "    ]\n",
        "].values\n",
        "scaled_penguin_data = StandardScaler().fit_transform(penguin_data)\n",
        "embedding = reducer.fit_transform(scaled_penguin_data)\n",
        "embedding.shape"
      ]
    },
    {
      "cell_type": "code",
      "source": [
        "plt.scatter(\n",
        "    embedding[:, 0],\n",
        "    embedding[:, 1],\n",
        "    c=[sns.color_palette()[x] for x in penguins.species.map({\"Adelie\":0, \"Chinstrap\":1, \"Gentoo\":2})])\n",
        "plt.gca().set_aspect('eqoual', 'datalim')\n",
        "plt.title('UMAP projection of the Penguin dataset', fontsize=24);"
      ],
      "metadata": {
        "colab": {
          "base_uri": "https://localhost:8080/",
          "height": 906
        },
        "id": "Rd5sEyEGVnLy",
        "outputId": "f2af158b-d206-4332-d30e-91b7384c75c2"
      },
      "execution_count": null,
      "outputs": [
        {
          "output_type": "error",
          "ename": "ValueError",
          "evalue": "ignored",
          "traceback": [
            "\u001b[0;31m---------------------------------------------------------------------------\u001b[0m",
            "\u001b[0;31mValueError\u001b[0m                                Traceback (most recent call last)",
            "\u001b[0;32m<ipython-input-5-f1ac38eeed43>\u001b[0m in \u001b[0;36m<module>\u001b[0;34m\u001b[0m\n\u001b[1;32m      3\u001b[0m     \u001b[0membedding\u001b[0m\u001b[0;34m[\u001b[0m\u001b[0;34m:\u001b[0m\u001b[0;34m,\u001b[0m \u001b[0;36m1\u001b[0m\u001b[0;34m]\u001b[0m\u001b[0;34m,\u001b[0m\u001b[0;34m\u001b[0m\u001b[0;34m\u001b[0m\u001b[0m\n\u001b[1;32m      4\u001b[0m     c=[sns.color_palette()[x] for x in penguins.species.map({\"Adelie\":0, \"Chinstrap\":1, \"Gentoo\":2})])\n\u001b[0;32m----> 5\u001b[0;31m \u001b[0mplt\u001b[0m\u001b[0;34m.\u001b[0m\u001b[0mgca\u001b[0m\u001b[0;34m(\u001b[0m\u001b[0;34m)\u001b[0m\u001b[0;34m.\u001b[0m\u001b[0mset_aspect\u001b[0m\u001b[0;34m(\u001b[0m\u001b[0;34m'eqoual'\u001b[0m\u001b[0;34m,\u001b[0m \u001b[0;34m'datalim'\u001b[0m\u001b[0;34m)\u001b[0m\u001b[0;34m\u001b[0m\u001b[0;34m\u001b[0m\u001b[0m\n\u001b[0m\u001b[1;32m      6\u001b[0m \u001b[0mplt\u001b[0m\u001b[0;34m.\u001b[0m\u001b[0mtitle\u001b[0m\u001b[0;34m(\u001b[0m\u001b[0;34m'UMAP projection of the Penguin dataset'\u001b[0m\u001b[0;34m,\u001b[0m \u001b[0mfontsize\u001b[0m\u001b[0;34m=\u001b[0m\u001b[0;36m24\u001b[0m\u001b[0;34m)\u001b[0m\u001b[0;34m;\u001b[0m\u001b[0;34m\u001b[0m\u001b[0;34m\u001b[0m\u001b[0m\n",
            "\u001b[0;32m/usr/local/lib/python3.9/dist-packages/matplotlib/axes/_base.py\u001b[0m in \u001b[0;36mset_aspect\u001b[0;34m(self, aspect, adjustable, anchor, share)\u001b[0m\n\u001b[1;32m   1665\u001b[0m             \u001b[0maspect\u001b[0m \u001b[0;34m=\u001b[0m \u001b[0;36m1\u001b[0m\u001b[0;34m\u001b[0m\u001b[0;34m\u001b[0m\u001b[0m\n\u001b[1;32m   1666\u001b[0m         \u001b[0;32mif\u001b[0m \u001b[0;32mnot\u001b[0m \u001b[0mcbook\u001b[0m\u001b[0;34m.\u001b[0m\u001b[0m_str_equal\u001b[0m\u001b[0;34m(\u001b[0m\u001b[0maspect\u001b[0m\u001b[0;34m,\u001b[0m \u001b[0;34m'auto'\u001b[0m\u001b[0;34m)\u001b[0m\u001b[0;34m:\u001b[0m\u001b[0;34m\u001b[0m\u001b[0;34m\u001b[0m\u001b[0m\n\u001b[0;32m-> 1667\u001b[0;31m             \u001b[0maspect\u001b[0m \u001b[0;34m=\u001b[0m \u001b[0mfloat\u001b[0m\u001b[0;34m(\u001b[0m\u001b[0maspect\u001b[0m\u001b[0;34m)\u001b[0m  \u001b[0;31m# raise ValueError if necessary\u001b[0m\u001b[0;34m\u001b[0m\u001b[0;34m\u001b[0m\u001b[0m\n\u001b[0m\u001b[1;32m   1668\u001b[0m             \u001b[0;32mif\u001b[0m \u001b[0maspect\u001b[0m \u001b[0;34m<=\u001b[0m \u001b[0;36m0\u001b[0m \u001b[0;32mor\u001b[0m \u001b[0;32mnot\u001b[0m \u001b[0mnp\u001b[0m\u001b[0;34m.\u001b[0m\u001b[0misfinite\u001b[0m\u001b[0;34m(\u001b[0m\u001b[0maspect\u001b[0m\u001b[0;34m)\u001b[0m\u001b[0;34m:\u001b[0m\u001b[0;34m\u001b[0m\u001b[0;34m\u001b[0m\u001b[0m\n\u001b[1;32m   1669\u001b[0m                 \u001b[0;32mraise\u001b[0m \u001b[0mValueError\u001b[0m\u001b[0;34m(\u001b[0m\u001b[0;34m\"aspect must be finite and positive \"\u001b[0m\u001b[0;34m)\u001b[0m\u001b[0;34m\u001b[0m\u001b[0;34m\u001b[0m\u001b[0m\n",
            "\u001b[0;31mValueError\u001b[0m: could not convert string to float: 'eqoual'"
          ]
        },
        {
          "output_type": "display_data",
          "data": {
            "text/plain": [
              "<Figure size 432x288 with 1 Axes>"
            ],
            "image/png": "[encoded data removed]"
          },
          "metadata": {
            "needs_background": "light"
          }
        }
      ]
    },
    {
      "cell_type": "code",
      "source": [
        "pip install umap-learn"
      ],
      "metadata": {
        "id": "GZfLldsG3Z3t",
        "outputId": "4e8e075d-fee6-466e-c514-a2ed4e2d0cad",
        "colab": {
          "base_uri": "https://localhost:8080/"
        }
      },
      "execution_count": null,
      "outputs": [
        {
          "output_type": "stream",
          "name": "stdout",
          "text": [
            "[[11.017283   -1.7178496   5.971709  ]\n",
            " [11.782783   -0.34881207  6.113899  ]\n",
            " [11.662568   -1.1997368   6.5895004 ]\n",
            " [11.794479   -1.0012641   5.5885434 ]\n",
            " [10.847343   -1.0002005   6.385586  ]\n",
            " [10.46179    -1.0966827   4.839864  ]\n",
            " [10.391417   -0.36772564  5.095867  ]\n",
            " [11.256641   -0.01277805  4.843589  ]\n",
            " [11.195055   -0.7124956   4.5154114 ]]\n"
          ]
        }
      ]
    },
    {
      "cell_type": "code",
      "source": [
        "import numpy as np\n",
        "import pandas as pd\n",
        "sample = np.random.choice(5,(7,4))\n",
        "\n",
        "p_groupings = [.4,.1,.3,.2]\n",
        "total = 150\n",
        "\n",
        "p_counts = np.round(np.array(p_groupings)*total).astype(int)\n",
        "seed = [[[2,3]],[[3,3]],[[2,2]],[[3,2]]]\n",
        "base = [p for seed_group in [seed[i]*p_counts[i] for i in range(len(seed))] for p in seed_group]\n",
        "base_array = np.array(base)\n",
        "\n",
        "f1 = np.concatenate(\n",
        "     [np.random.choice((1,2),(total,1)),\n",
        "      np.random.choice(4,(total,1)),\n",
        "      base_array,\n",
        "      np.random.choice(10,(total,3))\n",
        "     ],axis=1)\n",
        "print(f1.shape)"
      ],
      "metadata": {
        "colab": {
          "base_uri": "https://localhost:8080/"
        },
        "id": "5Hm_ueoiBYLj",
        "outputId": "14d83a11-ef21-4e75-ddb2-24c87ef1b43e"
      },
      "execution_count": null,
      "outputs": [
        {
          "output_type": "stream",
          "name": "stdout",
          "text": [
            "(150, 7)\n"
          ]
        }
      ]
    },
    {
      "cell_type": "code",
      "source": [
        "import numba\n",
        "import umap\n",
        "import pandas as pd\n",
        "import numpy as np\n",
        "import sklearn\n",
        "from sklearn.datasets import load_digits\n",
        "from sklearn.model_selection import train_test_split\n",
        "from sklearn.preprocessing import StandardScaler\n",
        "import matplotlib.pyplot as plt\n",
        "import seaborn as sns\n",
        "import pandas as pd\n",
        "from scipy.special import expit\n",
        "%matplotlib inline\n",
        "reducer = umap.UMAP(n_components=2)\n",
        "size ={'venti':2,'tall':3}\n",
        "flavor = {'zelnut':1, 'vanilla':2, 'caramel':3 ,'mocha':0}\n",
        "temp = {'hot':1, 'iced':2}\n",
        "caffiene = {'decaf':2,'reg':3}\n",
        "\n",
        "lookup = [temp,flavor, caffiene,size]\n",
        "\n",
        "inverse_lookup =[]\n",
        "#for x in lookup:\n",
        "inverse_lookup = [{value:key for key,value in x.items()} for x in lookup]\n",
        "lookup = inverse_lookup\n",
        "print(inverse_lookup)\n",
        "\n",
        "a = [[1,2,3,2],[2,0,3,2],[1,0,3,2],[1,0,3,3],[2,0,2,2],\n",
        "     [2,3,3,2],\n",
        "     [1,1,3,2],\n",
        "     [1,2,2,3],\n",
        "     [1,1,2,3],\n",
        "     [2,3,2,3],[2,0,2,3]]\n",
        "#a = f1\n",
        "distarray = sklearn.metrics.pairwise_distances(a, metric='hamming')\n",
        "\n",
        "sigdist = (distarray * 20) - 10\n",
        "\n",
        "sigdist = expit(sigdist)\n",
        "\n",
        "scaledData = StandardScaler().fit_transform(distarray)\n",
        "embedding = reducer.fit_transform(sigdist)\n",
        "embedding.shape\n",
        "#display(pd.DataFrame(scaledData))\n",
        "ax = plt.figure().add_subplot()\n",
        "\n",
        "ax.scatter(embedding[:, 0],\n",
        "    embedding[:, 1],cmap='Greens');\n",
        "\n",
        "plt.title('UMAP projection of coffee variants', fontsize=23);\n",
        "for i in range(0,len(a),1):\n",
        "   label = str(lookup[3][a[i][3]][0])+str(lookup[2][a[i][2]][0])\n",
        "   label = label + '\\n' + str(lookup[1][a[i][1]][0])+ str(lookup[0][a[i][0]][0])\n",
        "   ax.text(embedding[i,0],embedding[i,1],label,size=15)\n",
        "\n",
        "\"\"\"ax = plt.figure().add_subplot(projection='3d')\n",
        "\n",
        "ax.scatter3D(embedding[:, 0],\n",
        "    embedding[:, 1],embedding[:, 2], cmap='Greens');\n",
        "\n",
        "plt.title('UMAP projection of coffee variants', fontsize=24);\n",
        "for i in range(len(a)):\n",
        "   label = str(lookup[3][a[i][3]][0])+str(lookup[2][a[i][2]][0])\n",
        "   label = label + '\\n' + str(lookup[1][a[i][1]][0])+ str(lookup[0][a[i][0]][0])\n",
        "   ax.text(embedding[i,0],embedding[i,1],embedding[i,2],label,size=10)\n",
        "\"\"\"\n",
        "  # plt.annotate(label,(embedding[i,0]-.1,embedding[i,1]-0.05,embedding[i,2]))"
      ],
      "metadata": {
        "colab": {
          "base_uri": "https://localhost:8080/",
          "height": 542
        },
        "id": "wRmkDVctWtYV",
        "outputId": "4fb84480-fb17-412f-bd18-99d9f679d488"
      },
      "execution_count": null,
      "outputs": [
        {
          "output_type": "stream",
          "name": "stdout",
          "text": [
            "[{1: 'hot', 2: 'iced'}, {1: 'zelnut', 2: 'vanilla', 3: 'caramel', 0: 'mocha'}, {2: 'decaf', 3: 'reg'}, {2: 'venti', 3: 'tall'}]\n"
          ]
        },
        {
          "output_type": "stream",
          "name": "stderr",
          "text": [
            "/usr/local/lib/python3.9/dist-packages/umap/umap_.py:2344: UserWarning: n_neighbors is larger than the dataset size; truncating to X.shape[0] - 1\n",
            "  warn(\n",
            "<ipython-input-68-84d03aad152d>:47: UserWarning: No data for colormapping provided via 'c'. Parameters 'cmap' will be ignored\n",
            "  ax.scatter(embedding[:, 0],\n"
          ]
        },
        {
          "output_type": "execute_result",
          "data": {
            "text/plain": [
              "\"ax = plt.figure().add_subplot(projection='3d')\\n\\nax.scatter3D(embedding[:, 0],\\n    embedding[:, 1],embedding[:, 2], cmap='Greens');\\n\\nplt.title('UMAP projection of coffee variants', fontsize=24);\\nfor i in range(len(a)):\\n   label = str(lookup[3][a[i][3]][0])+str(lookup[2][a[i][2]][0])\\n   label = label + '\\n' + str(lookup[1][a[i][1]][0])+ str(lookup[0][a[i][0]][0])\\n   ax.text(embedding[i,0],embedding[i,1],embedding[i,2],label,size=10)\\n\""
            ],
            "application/vnd.google.colaboratory.intrinsic+json": {
              "type": "string"
            }
          },
          "metadata": {},
          "execution_count": 68
        },
        {
          "output_type": "display_data",
          "data": {
            "text/plain": [
              "<Figure size 432x288 with 1 Axes>"
            ],
            "image/png": "[encoded data removed]"
          },
          "metadata": {
            "needs_background": "light"
          }
        }
      ]
    },
    {
      "cell_type": "code",
      "source": [
        "\n",
        "from sklearn.preprocessing import StandardScaler\n",
        "import matplotlib.pyplot as plt\n",
        "X = StandardScaler().fit_transform(embedding)\n",
        "\n",
        "\n",
        "plt.scatter(X[:, 0], X[:, 1])\n",
        "plt.show()"
      ],
      "metadata": {
        "colab": {
          "base_uri": "https://localhost:8080/",
          "height": 210
        },
        "id": "AHb-NyO8x9V8",
        "outputId": "0aeb45e5-53a1-476b-ee61-a2a84f03d60b"
      },
      "execution_count": null,
      "outputs": [
        {
          "output_type": "display_data",
          "data": {
            "text/plain": [
              "<Figure size 432x288 with 1 Axes>"
            ],
            "image/png": "[encoded data removed]"
          },
          "metadata": {
            "needs_background": "light"
          }
        }
      ]
    },
    {
      "cell_type": "code",
      "source": [
        "import numpy as np\n",
        "from sklearn.cluster import DBSCAN\n",
        "from sklearn import metrics\n",
        "\n",
        "db = DBSCAN(eps=.25, min_samples=2,  metric='precomputed' ).fit(distarray)\n",
        "labels = db.labels_\n",
        "\n",
        "# Number of clusters in labels, ignoring noise if present.\n",
        "n_clusters_ = len(set(labels)) - (1 if -1 in labels else 0)\n",
        "n_noise_ = list(labels).count(-1)\n",
        "\n",
        "print(\"Estimated number of clusters: %d\" % n_clusters_)\n",
        "print(\"Estimated number of noise points: %d\" % n_noise_)\n",
        "unique_labels = set(labels)\n",
        "core_samples_mask = np.zeros_like(labels, dtype=bool)\n",
        "core_samples_mask[db.core_sample_indices_] = True\n",
        "\n",
        "colors = [plt.cm.Spectral(each) for each in np.linspace(0, 1, len(unique_labels))]\n",
        "for k, col in zip(unique_labels, colors):\n",
        "    if k == -1:\n",
        "        # Black used for noise.\n",
        "        col = [0, 0, 0, 1]\n",
        "\n",
        "    class_member_mask = labels == k\n",
        "\n",
        "    xy = X[class_member_mask & core_samples_mask]\n",
        "    plt.plot(\n",
        "        xy[:, 0],\n",
        "        xy[:, 1],\n",
        "        \"o\",\n",
        "        markerfacecolor=tuple(col),\n",
        "        markeredgecolor=\"k\",\n",
        "        markersize=14,\n",
        "    )\n",
        "\n",
        "    xy = X[class_member_mask & ~core_samples_mask]\n",
        "    plt.plot(\n",
        "        xy[:, 0],\n",
        "        xy[:, 1],\n",
        "        \"o\",\n",
        "        markerfacecolor=tuple(col),\n",
        "        markeredgecolor=\"k\",\n",
        "        markersize=6,\n",
        "    )\n",
        "\n",
        "plt.title(f\"Estimated number of clusters: {n_clusters_}\")\n",
        "plt.show()"
      ],
      "metadata": {
        "colab": {
          "base_uri": "https://localhost:8080/",
          "height": 257
        },
        "id": "gaHBhBxk02iy",
        "outputId": "b23899a6-1535-4853-f9fc-a2aa02f7c84d"
      },
      "execution_count": null,
      "outputs": [
        {
          "output_type": "stream",
          "name": "stdout",
          "text": [
            "Estimated number of clusters: 2\n",
            "Estimated number of noise points: 0\n"
          ]
        },
        {
          "output_type": "display_data",
          "data": {
            "text/plain": [
              "<Figure size 432x288 with 1 Axes>"
            ],
            "image/png": "[encoded data removed]"
          },
          "metadata": {
            "needs_background": "light"
          }
        }
      ]
    },
    {
      "cell_type": "code",
      "source": [],
      "metadata": {
        "colab": {
          "base_uri": "https://localhost:8080/"
        },
        "id": "PUt8R2-04oM4",
        "outputId": "7aa30310-581b-4742-b3be-e4ee93c94c6c"
      },
      "execution_count": null,
      "outputs": [
        {
          "output_type": "stream",
          "name": "stdout",
          "text": [
            "[[0.         0.57142857 0.71428571 ... 0.71428571 0.85714286 1.        ]\n",
            " [0.57142857 0.         0.71428571 ... 0.85714286 0.85714286 1.        ]\n",
            " [0.71428571 0.71428571 0.         ... 0.85714286 0.85714286 0.85714286]\n",
            " ...\n",
            " [0.71428571 0.85714286 0.85714286 ... 0.         0.57142857 0.57142857]\n",
            " [0.85714286 0.85714286 0.85714286 ... 0.57142857 0.         0.57142857]\n",
            " [1.         1.         0.85714286 ... 0.57142857 0.57142857 0.        ]]\n"
          ]
        }
      ]
    }
  ]
}