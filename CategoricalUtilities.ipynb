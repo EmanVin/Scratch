{
  "cells": [
    {
      "cell_type": "markdown",
      "metadata": {
        "id": "view-in-github",
        "colab_type": "text"
      },
      "source": [
        "<a href=\"https://colab.research.google.com/github/EmanVin/Scratch/blob/sandbox/CategoricalUtilities.ipynb\" target=\"_parent\"><img src=\"https://colab.research.google.com/assets/colab-badge.svg\" alt=\"Open In Colab\"/></a>"
      ]
    },
    {
      "cell_type": "code",
      "execution_count": null,
      "metadata": {
        "colab": {
          "base_uri": "https://localhost:8080/"
        },
        "id": "vTBtZbQSlbB8",
        "outputId": "93c9ae1b-1d46-4da0-8474-4cc21550290c"
      },
      "outputs": [
        {
          "output_type": "stream",
          "name": "stdout",
          "text": [
            "9.374999999999998\n",
            "col_0  m  o  w  x  y\n",
            "row_0               \n",
            "a      1  0  0  1  2\n",
            "b      2  1  1  0  0\n",
            "d      0  1  0  0  0\n"
          ]
        },
        {
          "output_type": "execute_result",
          "data": {
            "text/plain": [
              "0.7216878364870322"
            ]
          },
          "metadata": {},
          "execution_count": 1
        }
      ],
      "source": [
        "\n",
        "import pandas as pd\n",
        "import scipy.stats as ss\n",
        "import numpy as np\n",
        "def cramers_v(x, y):\n",
        "    confusion_matrix = pd.crosstab(x,y)\n",
        "    chi2 = ss.chi2_contingency(confusion_matrix)[0]\n",
        "    print(chi2)\n",
        "    n = float(confusion_matrix.sum().sum())\n",
        "    print(confusion_matrix)\n",
        "    k = float(min(confusion_matrix.shape)-1)\n",
        "    return np.sqrt(chi2/n/k)\n",
        "\n",
        "x = np.array(['a','a','a','a','b','b','b','b','d'])\n",
        "y = np.array(['y','m','y','x','o','m','w','m','o'])\n",
        "\n",
        "cramers_v(x,y)"
      ]
    },
    {
      "cell_type": "code",
      "source": [
        "import pandas as pd\n",
        "import scipy.stats as ss\n",
        "import numpy as np\n",
        "from math import inf\n",
        "import pprint\n",
        "#gini gain.. closer to 1 means higher gains\n",
        "def gini_statistic(df, attribute, target):\n",
        "  values = get_breakdown(df, attribute,target).astype(float).values\n",
        "  return gini_score(values)\n",
        " \n",
        "def gini_score(values):\n",
        "  return((values/values.sum())**2).sum()\n",
        "\n",
        "def get_breakdown(df, attribute, target):\n",
        "  breakdown = pd.concat([df[attribute],df[target].astype(float)], axis = 1).groupby(attribute).sum()\n",
        "  return breakdown\n",
        "\n",
        "  \n",
        "\n",
        "def get_correl(values):\n",
        "\n",
        "   return np.corrcoef(values[:,0],values[:,1])\n",
        "\n",
        "\n",
        "\n",
        "def get_scores(df, attributes, target):\n",
        "  scores = np.zeros(shape = len(attributes),dtype=float)\n",
        "  for i in range(len(attributes)):\n",
        "    scores[i] = gini_statistic(df, attributes[i],target)\n",
        "    \n",
        "\n",
        "  return scores,scores.argsort()\n",
        "\n",
        "\n",
        "result = None\n",
        "def get_split_tree(df,target,max_depth=inf,depth=0,min_samples = 2,min_sum = 0, allow_residual_split=False):\n",
        "  indent = \"- \"*depth\n",
        "  print(\"{}total:{}\".format(indent,df.shape[0]))\n",
        "  attributes = df.columns.tolist()\n",
        "  attributes.remove(target)\n",
        "  \n",
        "\n",
        "  (scores,order) = get_scores(df,attributes,target)\n",
        "  winning_index = np.argmax(scores)\n",
        "\n",
        "  winning_attribute = attributes[winning_index]\n",
        "  split_items = df[winning_attribute].unique()\n",
        "  tree = {'total':df.shape[0]}\n",
        "          \n",
        "  result = pd.DataFrame([])\n",
        "  children_df = pd.DataFrame([])\n",
        "  \n",
        "  children = {}  \n",
        "  split_group = df.groupby(winning_attribute)\n",
        "  child_attributes = df.columns.tolist()\n",
        "  child_attributes.remove(winning_attribute)\n",
        "\n",
        "  total_non_leaf = 0\n",
        "  residual_split = []\n",
        "  if split_group.size().min() >= min_samples or allow_residual_split:\n",
        "    for split_item in split_items:\n",
        "      sub_df = split_group.get_group(split_item)\n",
        "      child = {}\n",
        "      child_df = pd.DataFrame([])\n",
        "    \n",
        "      if df.shape[1] >=2 and depth < max_depth and sub_df.shape[0] > min_samples:\n",
        "        print(\"{}{}={}\".format(indent+\"- \",winning_attribute,split_item))\n",
        "        child_df = get_split_tree(sub_df[child_attributes],target,max_depth = max_depth,depth = depth+1,min_samples= min_samples)\n",
        "      \n",
        "        total_non_leaf += sub_df.shape[0]\n",
        "   \n",
        "        child_df[depth+1] = \"{}-{}:{}\".format(winning_attribute,split_item,sub_df.shape[0])  \n",
        "      else:      \n",
        "        residual_split.append(split_item)\n",
        "      \n",
        "      children_df = pd.concat([children_df,child_df],axis=0)\n",
        "    if len(residual_split)>0:\n",
        "      count = df.shape[0]-total_non_leaf\n",
        "      child_df = pd.DataFrame([count],columns = [\"count\"])\n",
        "      child_df[depth+1] = \"{}-{}:\".format(winning_attribute,\"others\",count)        \n",
        "    \n",
        "      children_df = pd.concat([children_df,child_df],axis=0)\n",
        "    \n",
        "  if children_df.shape[0]>0:\n",
        "      \n",
        "    print(\"{}split at:{}\".format(indent,winning_attribute))      \n",
        "    result = children_df\n",
        "  else:\n",
        "      \n",
        "    result['count'] = [df.shape[0]]\n",
        "  if depth == 0:\n",
        "    result[0] = 'total:{}'.format(df.shape[0])\n",
        "  return result\n",
        "\n",
        "(df,target) = (f1,'price')\n",
        "\n",
        "tree = get_split_tree(df,target,min_samples=5,allow_residual_split = True)\n",
        "result = tree\n",
        "\n",
        "pprint.pprint(result)\n",
        "print(result[\"count\"].sum())"
      ],
      "metadata": {
        "id": "4EuefxwaJoEp",
        "colab": {
          "base_uri": "https://localhost:8080/"
        },
        "outputId": "1dcdf419-ab0c-400b-d492-a933eb283588"
      },
      "execution_count": 133,
      "outputs": [
        {
          "output_type": "stream",
          "name": "stdout",
          "text": [
            "total:150\n",
            "- heat=4\n",
            "- total:105\n",
            "- - caffiene=3\n",
            "- - total:45\n",
            "- - - flavor=2\n",
            "- - - total:25\n",
            "- - - - size=0\n",
            "- - - - total:7\n",
            "- - - - size=3\n",
            "- - - - total:6\n",
            "- - - - size=1\n",
            "- - - - total:6\n",
            "- - - - size=2\n",
            "- - - - total:6\n",
            "- - - split at:size\n",
            "- - - flavor=1\n",
            "- - - total:20\n",
            "- - split at:flavor\n",
            "- - caffiene=1\n",
            "- - total:60\n",
            "- - - flavor=1\n",
            "- - - total:36\n",
            "- - - - size=1\n",
            "- - - - total:10\n",
            "- - - - size=3\n",
            "- - - - total:9\n",
            "- - - - size=0\n",
            "- - - - total:11\n",
            "- - - - size=2\n",
            "- - - - total:6\n",
            "- - - split at:size\n",
            "- - - flavor=2\n",
            "- - - total:24\n",
            "- - split at:flavor\n",
            "- split at:caffiene\n",
            "- heat=3\n",
            "- total:30\n",
            "- - flavor=2\n",
            "- - total:16\n",
            "- - - caffiene=3\n",
            "- - - total:9\n",
            "- - - caffiene=2\n",
            "- - - total:7\n",
            "- - split at:caffiene\n",
            "- - flavor=1\n",
            "- - total:14\n",
            "- - - caffiene=3\n",
            "- - - total:6\n",
            "- - - caffiene=2\n",
            "- - - total:8\n",
            "- - split at:caffiene\n",
            "- split at:flavor\n",
            "- heat=2\n",
            "- total:15\n",
            "- - caffiene=2\n",
            "- - total:15\n",
            "- - - flavor=1\n",
            "- - - total:7\n",
            "- - - flavor=2\n",
            "- - - total:8\n",
            "- - split at:flavor\n",
            "- split at:caffiene\n",
            "split at:heat\n",
            "   count          4             3              2           1          0\n",
            "0      7   size-0:7   flavor-2:25  caffiene-3:45  heat-4:105  total:150\n",
            "0      6   size-3:6   flavor-2:25  caffiene-3:45  heat-4:105  total:150\n",
            "0      6   size-1:6   flavor-2:25  caffiene-3:45  heat-4:105  total:150\n",
            "0      6   size-2:6   flavor-2:25  caffiene-3:45  heat-4:105  total:150\n",
            "0     20        NaN   flavor-1:20  caffiene-3:45  heat-4:105  total:150\n",
            "0     10  size-1:10   flavor-1:36  caffiene-1:60  heat-4:105  total:150\n",
            "0      9   size-3:9   flavor-1:36  caffiene-1:60  heat-4:105  total:150\n",
            "0     11  size-0:11   flavor-1:36  caffiene-1:60  heat-4:105  total:150\n",
            "0      6   size-2:6   flavor-1:36  caffiene-1:60  heat-4:105  total:150\n",
            "0     24        NaN   flavor-2:24  caffiene-1:60  heat-4:105  total:150\n",
            "0      9        NaN  caffiene-3:9    flavor-2:16   heat-3:30  total:150\n",
            "0      7        NaN  caffiene-2:7    flavor-2:16   heat-3:30  total:150\n",
            "0      6        NaN  caffiene-3:6    flavor-1:14   heat-3:30  total:150\n",
            "0      8        NaN  caffiene-2:8    flavor-1:14   heat-3:30  total:150\n",
            "0      7        NaN    flavor-1:7  caffiene-2:15   heat-2:15  total:150\n",
            "0      8        NaN    flavor-2:8  caffiene-2:15   heat-2:15  total:150\n",
            "150\n"
          ]
        }
      ]
    },
    {
      "cell_type": "code",
      "source": [
        "import numpy as np\n",
        "import pandas as pd\n",
        "sample = np.random.choice(5,(7,4))\n",
        "\n",
        "p_groupings = [.3,.4,.1,.1,.1]\n",
        "total = 150\n",
        "\n",
        "p_counts = np.round(np.array(p_groupings)*total).astype(int)\n",
        "seed = [[[4,3]],[[4,1]],[[3,3]],[[2,2]],[[3,2]]]\n",
        "base = [p for seed_group in [seed[i]*p_counts[i] for i in range(len(seed))] for p in seed_group]\n",
        "base_array = np.array(base)\n",
        "column_names = [\"flavor\",\"size\",\"heat\",\"caffiene\",\"variant\",\"price\"]\n",
        "\n",
        "f1 = pd.DataFrame(np.concatenate(\n",
        "     [np.random.choice((1,2),(total,1)).astype(str),\n",
        "      np.random.choice(4,(total,1)).astype(str),\n",
        "      base_array.astype(str),\n",
        "      np.random.choice(6,(total,1)).astype(str),\n",
        "      np.random.choice(2000,(total,1)).astype(float)\n",
        "\n",
        "     ],axis=1), columns = column_names\n",
        "     )\n",
        "\n",
        "print(f1.shape)\n",
        "print(f1)\n",
        "\n",
        "print(f1.groupby(['heat','caffiene']).size())"
      ],
      "metadata": {
        "colab": {
          "base_uri": "https://localhost:8080/"
        },
        "id": "w_bIyPl0NnHJ",
        "outputId": "71faa6bc-f399-4c45-dc63-4a0a698031a3"
      },
      "execution_count": 132,
      "outputs": [
        {
          "output_type": "stream",
          "name": "stdout",
          "text": [
            "(150, 6)\n",
            "    flavor size heat caffiene variant   price\n",
            "0        2    0    4        3       1  1866.0\n",
            "1        1    2    4        3       0  1553.0\n",
            "2        2    3    4        3       0  1572.0\n",
            "3        1    2    4        3       0   984.0\n",
            "4        2    0    4        3       4  1340.0\n",
            "..     ...  ...  ...      ...     ...     ...\n",
            "145      2    3    3        2       4  1763.0\n",
            "146      1    2    3        2       5    10.0\n",
            "147      1    0    3        2       2  1135.0\n",
            "148      2    3    3        2       4   636.0\n",
            "149      2    3    3        2       0  1004.0\n",
            "\n",
            "[150 rows x 6 columns]\n",
            "heat  caffiene\n",
            "2     2           15\n",
            "3     2           15\n",
            "      3           15\n",
            "4     1           60\n",
            "      3           45\n",
            "dtype: int64\n"
          ]
        }
      ]
    },
    {
      "cell_type": "code",
      "source": [
        "\n",
        "import plotly.express as px\n",
        "import pandas as pd\n",
        "  \n",
        "df = tree\n",
        "fig = px.sunburst(df.fillna(\"\"), path=list(range(df.shape[1]-1)), values='count')\n",
        "fig.show()"
      ],
      "metadata": {
        "colab": {
          "base_uri": "https://localhost:8080/",
          "height": 542
        },
        "id": "KeRVsTOe4qy8",
        "outputId": "1dcd2538-2330-4e31-8370-06961b891b69"
      },
      "execution_count": 122,
      "outputs": [
        {
          "output_type": "display_data",
          "data": {
            "text/html": [
              "<html>\n",
              "<head><meta charset=\"utf-8\" /></head>\n",
              "<body>\n",
              "    <div>            <script src=\"https://cdnjs.cloudflare.com/ajax/libs/mathjax/2.7.5/MathJax.js?config=TeX-AMS-MML_SVG\"></script><script type=\"text/javascript\">if (window.MathJax && window.MathJax.Hub && window.MathJax.Hub.Config) {window.MathJax.Hub.Config({SVG: {font: \"STIX-Web\"}});}</script>                <script type=\"text/javascript\">window.PlotlyConfig = {MathJaxConfig: 'local'};</script>\n",
              "        <script src=\"https://cdn.plot.ly/plotly-2.18.2.min.js\"></script>                <div id=\"aea38208-2005-43b4-b814-82c2a06961e0\" class=\"plotly-graph-div\" style=\"height:525px; width:100%;\"></div>            <script type=\"text/javascript\">                                    window.PLOTLYENV=window.PLOTLYENV || {};                                    if (document.getElementById(\"aea38208-2005-43b4-b814-82c2a06961e0\")) {                    Plotly.newPlot(                        \"aea38208-2005-43b4-b814-82c2a06961e0\",                        [{\"branchvalues\":\"total\",\"domain\":{\"x\":[0.0,1.0],\"y\":[0.0,1.0]},\"hovertemplate\":\"labels=%{label}<br>count=%{value}<br>parent=%{parent}<br>id=%{id}<extra></extra>\",\"ids\":[\"total:150/caffiene-3:75/heat-4:60/flavor-1:33\",\"total:150/caffiene-3:75/heat-3:15/flavor-1:9\",\"total:150/caffiene-3:75/heat-4:60/flavor-2:27\",\"total:150/caffiene-3:75/heat-3:15/flavor-2:6\",\"total:150/caffiene-2:75/flavor-1:29/heat-2:18\",\"total:150/caffiene-2:75/flavor-2:46/heat-2:27\",\"total:150/caffiene-2:75/flavor-1:29/heat-3:11\",\"total:150/caffiene-2:75/flavor-2:46/heat-3:19\",\"total:150/caffiene-2:75/flavor-1:29\",\"total:150/caffiene-2:75/flavor-2:46\",\"total:150/caffiene-3:75/heat-3:15\",\"total:150/caffiene-3:75/heat-4:60\",\"total:150/caffiene-2:75\",\"total:150/caffiene-3:75\",\"total:150\"],\"labels\":[\"flavor-1:33\",\"flavor-1:9\",\"flavor-2:27\",\"flavor-2:6\",\"heat-2:18\",\"heat-2:27\",\"heat-3:11\",\"heat-3:19\",\"flavor-1:29\",\"flavor-2:46\",\"heat-3:15\",\"heat-4:60\",\"caffiene-2:75\",\"caffiene-3:75\",\"total:150\"],\"name\":\"\",\"parents\":[\"total:150/caffiene-3:75/heat-4:60\",\"total:150/caffiene-3:75/heat-3:15\",\"total:150/caffiene-3:75/heat-4:60\",\"total:150/caffiene-3:75/heat-3:15\",\"total:150/caffiene-2:75/flavor-1:29\",\"total:150/caffiene-2:75/flavor-2:46\",\"total:150/caffiene-2:75/flavor-1:29\",\"total:150/caffiene-2:75/flavor-2:46\",\"total:150/caffiene-2:75\",\"total:150/caffiene-2:75\",\"total:150/caffiene-3:75\",\"total:150/caffiene-3:75\",\"total:150\",\"total:150\",\"\"],\"values\":[33,9,27,6,18,27,11,19,29,46,15,60,75,75,150],\"type\":\"sunburst\"}],                        {\"template\":{\"data\":{\"histogram2dcontour\":[{\"type\":\"histogram2dcontour\",\"colorbar\":{\"outlinewidth\":0,\"ticks\":\"\"},\"colorscale\":[[0.0,\"#0d0887\"],[0.1111111111111111,\"#46039f\"],[0.2222222222222222,\"#7201a8\"],[0.3333333333333333,\"#9c179e\"],[0.4444444444444444,\"#bd3786\"],[0.5555555555555556,\"#d8576b\"],[0.6666666666666666,\"#ed7953\"],[0.7777777777777778,\"#fb9f3a\"],[0.8888888888888888,\"#fdca26\"],[1.0,\"#f0f921\"]]}],\"choropleth\":[{\"type\":\"choropleth\",\"colorbar\":{\"outlinewidth\":0,\"ticks\":\"\"}}],\"histogram2d\":[{\"type\":\"histogram2d\",\"colorbar\":{\"outlinewidth\":0,\"ticks\":\"\"},\"colorscale\":[[0.0,\"#0d0887\"],[0.1111111111111111,\"#46039f\"],[0.2222222222222222,\"#7201a8\"],[0.3333333333333333,\"#9c179e\"],[0.4444444444444444,\"#bd3786\"],[0.5555555555555556,\"#d8576b\"],[0.6666666666666666,\"#ed7953\"],[0.7777777777777778,\"#fb9f3a\"],[0.8888888888888888,\"#fdca26\"],[1.0,\"#f0f921\"]]}],\"heatmap\":[{\"type\":\"heatmap\",\"colorbar\":{\"outlinewidth\":0,\"ticks\":\"\"},\"colorscale\":[[0.0,\"#0d0887\"],[0.1111111111111111,\"#46039f\"],[0.2222222222222222,\"#7201a8\"],[0.3333333333333333,\"#9c179e\"],[0.4444444444444444,\"#bd3786\"],[0.5555555555555556,\"#d8576b\"],[0.6666666666666666,\"#ed7953\"],[0.7777777777777778,\"#fb9f3a\"],[0.8888888888888888,\"#fdca26\"],[1.0,\"#f0f921\"]]}],\"heatmapgl\":[{\"type\":\"heatmapgl\",\"colorbar\":{\"outlinewidth\":0,\"ticks\":\"\"},\"colorscale\":[[0.0,\"#0d0887\"],[0.1111111111111111,\"#46039f\"],[0.2222222222222222,\"#7201a8\"],[0.3333333333333333,\"#9c179e\"],[0.4444444444444444,\"#bd3786\"],[0.5555555555555556,\"#d8576b\"],[0.6666666666666666,\"#ed7953\"],[0.7777777777777778,\"#fb9f3a\"],[0.8888888888888888,\"#fdca26\"],[1.0,\"#f0f921\"]]}],\"contourcarpet\":[{\"type\":\"contourcarpet\",\"colorbar\":{\"outlinewidth\":0,\"ticks\":\"\"}}],\"contour\":[{\"type\":\"contour\",\"colorbar\":{\"outlinewidth\":0,\"ticks\":\"\"},\"colorscale\":[[0.0,\"#0d0887\"],[0.1111111111111111,\"#46039f\"],[0.2222222222222222,\"#7201a8\"],[0.3333333333333333,\"#9c179e\"],[0.4444444444444444,\"#bd3786\"],[0.5555555555555556,\"#d8576b\"],[0.6666666666666666,\"#ed7953\"],[0.7777777777777778,\"#fb9f3a\"],[0.8888888888888888,\"#fdca26\"],[1.0,\"#f0f921\"]]}],\"surface\":[{\"type\":\"surface\",\"colorbar\":{\"outlinewidth\":0,\"ticks\":\"\"},\"colorscale\":[[0.0,\"#0d0887\"],[0.1111111111111111,\"#46039f\"],[0.2222222222222222,\"#7201a8\"],[0.3333333333333333,\"#9c179e\"],[0.4444444444444444,\"#bd3786\"],[0.5555555555555556,\"#d8576b\"],[0.6666666666666666,\"#ed7953\"],[0.7777777777777778,\"#fb9f3a\"],[0.8888888888888888,\"#fdca26\"],[1.0,\"#f0f921\"]]}],\"mesh3d\":[{\"type\":\"mesh3d\",\"colorbar\":{\"outlinewidth\":0,\"ticks\":\"\"}}],\"scatter\":[{\"fillpattern\":{\"fillmode\":\"overlay\",\"size\":10,\"solidity\":0.2},\"type\":\"scatter\"}],\"parcoords\":[{\"type\":\"parcoords\",\"line\":{\"colorbar\":{\"outlinewidth\":0,\"ticks\":\"\"}}}],\"scatterpolargl\":[{\"type\":\"scatterpolargl\",\"marker\":{\"colorbar\":{\"outlinewidth\":0,\"ticks\":\"\"}}}],\"bar\":[{\"error_x\":{\"color\":\"#2a3f5f\"},\"error_y\":{\"color\":\"#2a3f5f\"},\"marker\":{\"line\":{\"color\":\"#E5ECF6\",\"width\":0.5},\"pattern\":{\"fillmode\":\"overlay\",\"size\":10,\"solidity\":0.2}},\"type\":\"bar\"}],\"scattergeo\":[{\"type\":\"scattergeo\",\"marker\":{\"colorbar\":{\"outlinewidth\":0,\"ticks\":\"\"}}}],\"scatterpolar\":[{\"type\":\"scatterpolar\",\"marker\":{\"colorbar\":{\"outlinewidth\":0,\"ticks\":\"\"}}}],\"histogram\":[{\"marker\":{\"pattern\":{\"fillmode\":\"overlay\",\"size\":10,\"solidity\":0.2}},\"type\":\"histogram\"}],\"scattergl\":[{\"type\":\"scattergl\",\"marker\":{\"colorbar\":{\"outlinewidth\":0,\"ticks\":\"\"}}}],\"scatter3d\":[{\"type\":\"scatter3d\",\"line\":{\"colorbar\":{\"outlinewidth\":0,\"ticks\":\"\"}},\"marker\":{\"colorbar\":{\"outlinewidth\":0,\"ticks\":\"\"}}}],\"scattermapbox\":[{\"type\":\"scattermapbox\",\"marker\":{\"colorbar\":{\"outlinewidth\":0,\"ticks\":\"\"}}}],\"scatterternary\":[{\"type\":\"scatterternary\",\"marker\":{\"colorbar\":{\"outlinewidth\":0,\"ticks\":\"\"}}}],\"scattercarpet\":[{\"type\":\"scattercarpet\",\"marker\":{\"colorbar\":{\"outlinewidth\":0,\"ticks\":\"\"}}}],\"carpet\":[{\"aaxis\":{\"endlinecolor\":\"#2a3f5f\",\"gridcolor\":\"white\",\"linecolor\":\"white\",\"minorgridcolor\":\"white\",\"startlinecolor\":\"#2a3f5f\"},\"baxis\":{\"endlinecolor\":\"#2a3f5f\",\"gridcolor\":\"white\",\"linecolor\":\"white\",\"minorgridcolor\":\"white\",\"startlinecolor\":\"#2a3f5f\"},\"type\":\"carpet\"}],\"table\":[{\"cells\":{\"fill\":{\"color\":\"#EBF0F8\"},\"line\":{\"color\":\"white\"}},\"header\":{\"fill\":{\"color\":\"#C8D4E3\"},\"line\":{\"color\":\"white\"}},\"type\":\"table\"}],\"barpolar\":[{\"marker\":{\"line\":{\"color\":\"#E5ECF6\",\"width\":0.5},\"pattern\":{\"fillmode\":\"overlay\",\"size\":10,\"solidity\":0.2}},\"type\":\"barpolar\"}],\"pie\":[{\"automargin\":true,\"type\":\"pie\"}]},\"layout\":{\"autotypenumbers\":\"strict\",\"colorway\":[\"#636efa\",\"#EF553B\",\"#00cc96\",\"#ab63fa\",\"#FFA15A\",\"#19d3f3\",\"#FF6692\",\"#B6E880\",\"#FF97FF\",\"#FECB52\"],\"font\":{\"color\":\"#2a3f5f\"},\"hovermode\":\"closest\",\"hoverlabel\":{\"align\":\"left\"},\"paper_bgcolor\":\"white\",\"plot_bgcolor\":\"#E5ECF6\",\"polar\":{\"bgcolor\":\"#E5ECF6\",\"angularaxis\":{\"gridcolor\":\"white\",\"linecolor\":\"white\",\"ticks\":\"\"},\"radialaxis\":{\"gridcolor\":\"white\",\"linecolor\":\"white\",\"ticks\":\"\"}},\"ternary\":{\"bgcolor\":\"#E5ECF6\",\"aaxis\":{\"gridcolor\":\"white\",\"linecolor\":\"white\",\"ticks\":\"\"},\"baxis\":{\"gridcolor\":\"white\",\"linecolor\":\"white\",\"ticks\":\"\"},\"caxis\":{\"gridcolor\":\"white\",\"linecolor\":\"white\",\"ticks\":\"\"}},\"coloraxis\":{\"colorbar\":{\"outlinewidth\":0,\"ticks\":\"\"}},\"colorscale\":{\"sequential\":[[0.0,\"#0d0887\"],[0.1111111111111111,\"#46039f\"],[0.2222222222222222,\"#7201a8\"],[0.3333333333333333,\"#9c179e\"],[0.4444444444444444,\"#bd3786\"],[0.5555555555555556,\"#d8576b\"],[0.6666666666666666,\"#ed7953\"],[0.7777777777777778,\"#fb9f3a\"],[0.8888888888888888,\"#fdca26\"],[1.0,\"#f0f921\"]],\"sequentialminus\":[[0.0,\"#0d0887\"],[0.1111111111111111,\"#46039f\"],[0.2222222222222222,\"#7201a8\"],[0.3333333333333333,\"#9c179e\"],[0.4444444444444444,\"#bd3786\"],[0.5555555555555556,\"#d8576b\"],[0.6666666666666666,\"#ed7953\"],[0.7777777777777778,\"#fb9f3a\"],[0.8888888888888888,\"#fdca26\"],[1.0,\"#f0f921\"]],\"diverging\":[[0,\"#8e0152\"],[0.1,\"#c51b7d\"],[0.2,\"#de77ae\"],[0.3,\"#f1b6da\"],[0.4,\"#fde0ef\"],[0.5,\"#f7f7f7\"],[0.6,\"#e6f5d0\"],[0.7,\"#b8e186\"],[0.8,\"#7fbc41\"],[0.9,\"#4d9221\"],[1,\"#276419\"]]},\"xaxis\":{\"gridcolor\":\"white\",\"linecolor\":\"white\",\"ticks\":\"\",\"title\":{\"standoff\":15},\"zerolinecolor\":\"white\",\"automargin\":true,\"zerolinewidth\":2},\"yaxis\":{\"gridcolor\":\"white\",\"linecolor\":\"white\",\"ticks\":\"\",\"title\":{\"standoff\":15},\"zerolinecolor\":\"white\",\"automargin\":true,\"zerolinewidth\":2},\"scene\":{\"xaxis\":{\"backgroundcolor\":\"#E5ECF6\",\"gridcolor\":\"white\",\"linecolor\":\"white\",\"showbackground\":true,\"ticks\":\"\",\"zerolinecolor\":\"white\",\"gridwidth\":2},\"yaxis\":{\"backgroundcolor\":\"#E5ECF6\",\"gridcolor\":\"white\",\"linecolor\":\"white\",\"showbackground\":true,\"ticks\":\"\",\"zerolinecolor\":\"white\",\"gridwidth\":2},\"zaxis\":{\"backgroundcolor\":\"#E5ECF6\",\"gridcolor\":\"white\",\"linecolor\":\"white\",\"showbackground\":true,\"ticks\":\"\",\"zerolinecolor\":\"white\",\"gridwidth\":2}},\"shapedefaults\":{\"line\":{\"color\":\"#2a3f5f\"}},\"annotationdefaults\":{\"arrowcolor\":\"#2a3f5f\",\"arrowhead\":0,\"arrowwidth\":1},\"geo\":{\"bgcolor\":\"white\",\"landcolor\":\"#E5ECF6\",\"subunitcolor\":\"white\",\"showland\":true,\"showlakes\":true,\"lakecolor\":\"white\"},\"title\":{\"x\":0.05},\"mapbox\":{\"style\":\"light\"}}},\"legend\":{\"tracegroupgap\":0},\"margin\":{\"t\":60}},                        {\"responsive\": true}                    ).then(function(){\n",
              "                            \n",
              "var gd = document.getElementById('aea38208-2005-43b4-b814-82c2a06961e0');\n",
              "var x = new MutationObserver(function (mutations, observer) {{\n",
              "        var display = window.getComputedStyle(gd).display;\n",
              "        if (!display || display === 'none') {{\n",
              "            console.log([gd, 'removed!']);\n",
              "            Plotly.purge(gd);\n",
              "            observer.disconnect();\n",
              "        }}\n",
              "}});\n",
              "\n",
              "// Listen for the removal of the full notebook cells\n",
              "var notebookContainer = gd.closest('#notebook-container');\n",
              "if (notebookContainer) {{\n",
              "    x.observe(notebookContainer, {childList: true});\n",
              "}}\n",
              "\n",
              "// Listen for the clearing of the current output cell\n",
              "var outputEl = gd.closest('.output');\n",
              "if (outputEl) {{\n",
              "    x.observe(outputEl, {childList: true});\n",
              "}}\n",
              "\n",
              "                        })                };                            </script>        </div>\n",
              "</body>\n",
              "</html>"
            ]
          },
          "metadata": {}
        }
      ]
    },
    {
      "cell_type": "code",
      "source": [
        "\n",
        "df = tree\n",
        "\n",
        "fig = px.treemap(df, path=list(range(df.shape[1]-1)), values='count'\n",
        " ,height = 300\n",
        ",width = 400\n",
        ")\n",
        "fig.show()"
      ],
      "metadata": {
        "colab": {
          "base_uri": "https://localhost:8080/",
          "height": 317
        },
        "id": "8VVeCpIX9oFC",
        "outputId": "19e460df-da97-4bd2-a8e4-b0f8ad032e46"
      },
      "execution_count": 135,
      "outputs": [
        {
          "output_type": "display_data",
          "data": {
            "text/html": [
              "<html>\n",
              "<head><meta charset=\"utf-8\" /></head>\n",
              "<body>\n",
              "    <div>            <script src=\"https://cdnjs.cloudflare.com/ajax/libs/mathjax/2.7.5/MathJax.js?config=TeX-AMS-MML_SVG\"></script><script type=\"text/javascript\">if (window.MathJax && window.MathJax.Hub && window.MathJax.Hub.Config) {window.MathJax.Hub.Config({SVG: {font: \"STIX-Web\"}});}</script>                <script type=\"text/javascript\">window.PlotlyConfig = {MathJaxConfig: 'local'};</script>\n",
              "        <script src=\"https://cdn.plot.ly/plotly-2.18.2.min.js\"></script>                <div id=\"3c1a2083-f3ca-4a71-98c5-779874b2545d\" class=\"plotly-graph-div\" style=\"height:300px; width:400px;\"></div>            <script type=\"text/javascript\">                                    window.PLOTLYENV=window.PLOTLYENV || {};                                    if (document.getElementById(\"3c1a2083-f3ca-4a71-98c5-779874b2545d\")) {                    Plotly.newPlot(                        \"3c1a2083-f3ca-4a71-98c5-779874b2545d\",                        [{\"branchvalues\":\"total\",\"domain\":{\"x\":[0.0,1.0],\"y\":[0.0,1.0]},\"hovertemplate\":\"labels=%{label}<br>count=%{value}<br>parent=%{parent}<br>id=%{id}<extra></extra>\",\"ids\":[\"total:150/heat-4:105/caffiene-1:60/flavor-1:36/size-0:11\",\"total:150/heat-4:105/caffiene-3:45/flavor-2:25/size-0:7\",\"total:150/heat-4:105/caffiene-1:60/flavor-1:36/size-1:10\",\"total:150/heat-4:105/caffiene-3:45/flavor-2:25/size-1:6\",\"total:150/heat-4:105/caffiene-1:60/flavor-1:36/size-2:6\",\"total:150/heat-4:105/caffiene-3:45/flavor-2:25/size-2:6\",\"total:150/heat-4:105/caffiene-3:45/flavor-2:25/size-3:6\",\"total:150/heat-4:105/caffiene-1:60/flavor-1:36/size-3:9\",\"total:150/heat-3:30/flavor-2:16/caffiene-2:7\",\"total:150/heat-3:30/flavor-1:14/caffiene-2:8\",\"total:150/heat-3:30/flavor-1:14/caffiene-3:6\",\"total:150/heat-3:30/flavor-2:16/caffiene-3:9\",\"total:150/heat-4:105/caffiene-3:45/flavor-1:20\",\"total:150/heat-4:105/caffiene-1:60/flavor-1:36\",\"total:150/heat-2:15/caffiene-2:15/flavor-1:7\",\"total:150/heat-4:105/caffiene-1:60/flavor-2:24\",\"total:150/heat-4:105/caffiene-3:45/flavor-2:25\",\"total:150/heat-2:15/caffiene-2:15/flavor-2:8\",\"total:150/heat-4:105/caffiene-1:60\",\"total:150/heat-2:15/caffiene-2:15\",\"total:150/heat-4:105/caffiene-3:45\",\"total:150/heat-3:30/flavor-1:14\",\"total:150/heat-3:30/flavor-2:16\",\"total:150/heat-2:15\",\"total:150/heat-3:30\",\"total:150/heat-4:105\",\"total:150\"],\"labels\":[\"size-0:11\",\"size-0:7\",\"size-1:10\",\"size-1:6\",\"size-2:6\",\"size-2:6\",\"size-3:6\",\"size-3:9\",\"caffiene-2:7\",\"caffiene-2:8\",\"caffiene-3:6\",\"caffiene-3:9\",\"flavor-1:20\",\"flavor-1:36\",\"flavor-1:7\",\"flavor-2:24\",\"flavor-2:25\",\"flavor-2:8\",\"caffiene-1:60\",\"caffiene-2:15\",\"caffiene-3:45\",\"flavor-1:14\",\"flavor-2:16\",\"heat-2:15\",\"heat-3:30\",\"heat-4:105\",\"total:150\"],\"name\":\"\",\"parents\":[\"total:150/heat-4:105/caffiene-1:60/flavor-1:36\",\"total:150/heat-4:105/caffiene-3:45/flavor-2:25\",\"total:150/heat-4:105/caffiene-1:60/flavor-1:36\",\"total:150/heat-4:105/caffiene-3:45/flavor-2:25\",\"total:150/heat-4:105/caffiene-1:60/flavor-1:36\",\"total:150/heat-4:105/caffiene-3:45/flavor-2:25\",\"total:150/heat-4:105/caffiene-3:45/flavor-2:25\",\"total:150/heat-4:105/caffiene-1:60/flavor-1:36\",\"total:150/heat-3:30/flavor-2:16\",\"total:150/heat-3:30/flavor-1:14\",\"total:150/heat-3:30/flavor-1:14\",\"total:150/heat-3:30/flavor-2:16\",\"total:150/heat-4:105/caffiene-3:45\",\"total:150/heat-4:105/caffiene-1:60\",\"total:150/heat-2:15/caffiene-2:15\",\"total:150/heat-4:105/caffiene-1:60\",\"total:150/heat-4:105/caffiene-3:45\",\"total:150/heat-2:15/caffiene-2:15\",\"total:150/heat-4:105\",\"total:150/heat-2:15\",\"total:150/heat-4:105\",\"total:150/heat-3:30\",\"total:150/heat-3:30\",\"total:150\",\"total:150\",\"total:150\",\"\"],\"values\":[11,7,10,6,6,6,6,9,7,8,6,9,20,36,7,24,25,8,60,15,45,14,16,15,30,105,150],\"type\":\"treemap\"}],                        {\"template\":{\"data\":{\"histogram2dcontour\":[{\"type\":\"histogram2dcontour\",\"colorbar\":{\"outlinewidth\":0,\"ticks\":\"\"},\"colorscale\":[[0.0,\"#0d0887\"],[0.1111111111111111,\"#46039f\"],[0.2222222222222222,\"#7201a8\"],[0.3333333333333333,\"#9c179e\"],[0.4444444444444444,\"#bd3786\"],[0.5555555555555556,\"#d8576b\"],[0.6666666666666666,\"#ed7953\"],[0.7777777777777778,\"#fb9f3a\"],[0.8888888888888888,\"#fdca26\"],[1.0,\"#f0f921\"]]}],\"choropleth\":[{\"type\":\"choropleth\",\"colorbar\":{\"outlinewidth\":0,\"ticks\":\"\"}}],\"histogram2d\":[{\"type\":\"histogram2d\",\"colorbar\":{\"outlinewidth\":0,\"ticks\":\"\"},\"colorscale\":[[0.0,\"#0d0887\"],[0.1111111111111111,\"#46039f\"],[0.2222222222222222,\"#7201a8\"],[0.3333333333333333,\"#9c179e\"],[0.4444444444444444,\"#bd3786\"],[0.5555555555555556,\"#d8576b\"],[0.6666666666666666,\"#ed7953\"],[0.7777777777777778,\"#fb9f3a\"],[0.8888888888888888,\"#fdca26\"],[1.0,\"#f0f921\"]]}],\"heatmap\":[{\"type\":\"heatmap\",\"colorbar\":{\"outlinewidth\":0,\"ticks\":\"\"},\"colorscale\":[[0.0,\"#0d0887\"],[0.1111111111111111,\"#46039f\"],[0.2222222222222222,\"#7201a8\"],[0.3333333333333333,\"#9c179e\"],[0.4444444444444444,\"#bd3786\"],[0.5555555555555556,\"#d8576b\"],[0.6666666666666666,\"#ed7953\"],[0.7777777777777778,\"#fb9f3a\"],[0.8888888888888888,\"#fdca26\"],[1.0,\"#f0f921\"]]}],\"heatmapgl\":[{\"type\":\"heatmapgl\",\"colorbar\":{\"outlinewidth\":0,\"ticks\":\"\"},\"colorscale\":[[0.0,\"#0d0887\"],[0.1111111111111111,\"#46039f\"],[0.2222222222222222,\"#7201a8\"],[0.3333333333333333,\"#9c179e\"],[0.4444444444444444,\"#bd3786\"],[0.5555555555555556,\"#d8576b\"],[0.6666666666666666,\"#ed7953\"],[0.7777777777777778,\"#fb9f3a\"],[0.8888888888888888,\"#fdca26\"],[1.0,\"#f0f921\"]]}],\"contourcarpet\":[{\"type\":\"contourcarpet\",\"colorbar\":{\"outlinewidth\":0,\"ticks\":\"\"}}],\"contour\":[{\"type\":\"contour\",\"colorbar\":{\"outlinewidth\":0,\"ticks\":\"\"},\"colorscale\":[[0.0,\"#0d0887\"],[0.1111111111111111,\"#46039f\"],[0.2222222222222222,\"#7201a8\"],[0.3333333333333333,\"#9c179e\"],[0.4444444444444444,\"#bd3786\"],[0.5555555555555556,\"#d8576b\"],[0.6666666666666666,\"#ed7953\"],[0.7777777777777778,\"#fb9f3a\"],[0.8888888888888888,\"#fdca26\"],[1.0,\"#f0f921\"]]}],\"surface\":[{\"type\":\"surface\",\"colorbar\":{\"outlinewidth\":0,\"ticks\":\"\"},\"colorscale\":[[0.0,\"#0d0887\"],[0.1111111111111111,\"#46039f\"],[0.2222222222222222,\"#7201a8\"],[0.3333333333333333,\"#9c179e\"],[0.4444444444444444,\"#bd3786\"],[0.5555555555555556,\"#d8576b\"],[0.6666666666666666,\"#ed7953\"],[0.7777777777777778,\"#fb9f3a\"],[0.8888888888888888,\"#fdca26\"],[1.0,\"#f0f921\"]]}],\"mesh3d\":[{\"type\":\"mesh3d\",\"colorbar\":{\"outlinewidth\":0,\"ticks\":\"\"}}],\"scatter\":[{\"fillpattern\":{\"fillmode\":\"overlay\",\"size\":10,\"solidity\":0.2},\"type\":\"scatter\"}],\"parcoords\":[{\"type\":\"parcoords\",\"line\":{\"colorbar\":{\"outlinewidth\":0,\"ticks\":\"\"}}}],\"scatterpolargl\":[{\"type\":\"scatterpolargl\",\"marker\":{\"colorbar\":{\"outlinewidth\":0,\"ticks\":\"\"}}}],\"bar\":[{\"error_x\":{\"color\":\"#2a3f5f\"},\"error_y\":{\"color\":\"#2a3f5f\"},\"marker\":{\"line\":{\"color\":\"#E5ECF6\",\"width\":0.5},\"pattern\":{\"fillmode\":\"overlay\",\"size\":10,\"solidity\":0.2}},\"type\":\"bar\"}],\"scattergeo\":[{\"type\":\"scattergeo\",\"marker\":{\"colorbar\":{\"outlinewidth\":0,\"ticks\":\"\"}}}],\"scatterpolar\":[{\"type\":\"scatterpolar\",\"marker\":{\"colorbar\":{\"outlinewidth\":0,\"ticks\":\"\"}}}],\"histogram\":[{\"marker\":{\"pattern\":{\"fillmode\":\"overlay\",\"size\":10,\"solidity\":0.2}},\"type\":\"histogram\"}],\"scattergl\":[{\"type\":\"scattergl\",\"marker\":{\"colorbar\":{\"outlinewidth\":0,\"ticks\":\"\"}}}],\"scatter3d\":[{\"type\":\"scatter3d\",\"line\":{\"colorbar\":{\"outlinewidth\":0,\"ticks\":\"\"}},\"marker\":{\"colorbar\":{\"outlinewidth\":0,\"ticks\":\"\"}}}],\"scattermapbox\":[{\"type\":\"scattermapbox\",\"marker\":{\"colorbar\":{\"outlinewidth\":0,\"ticks\":\"\"}}}],\"scatterternary\":[{\"type\":\"scatterternary\",\"marker\":{\"colorbar\":{\"outlinewidth\":0,\"ticks\":\"\"}}}],\"scattercarpet\":[{\"type\":\"scattercarpet\",\"marker\":{\"colorbar\":{\"outlinewidth\":0,\"ticks\":\"\"}}}],\"carpet\":[{\"aaxis\":{\"endlinecolor\":\"#2a3f5f\",\"gridcolor\":\"white\",\"linecolor\":\"white\",\"minorgridcolor\":\"white\",\"startlinecolor\":\"#2a3f5f\"},\"baxis\":{\"endlinecolor\":\"#2a3f5f\",\"gridcolor\":\"white\",\"linecolor\":\"white\",\"minorgridcolor\":\"white\",\"startlinecolor\":\"#2a3f5f\"},\"type\":\"carpet\"}],\"table\":[{\"cells\":{\"fill\":{\"color\":\"#EBF0F8\"},\"line\":{\"color\":\"white\"}},\"header\":{\"fill\":{\"color\":\"#C8D4E3\"},\"line\":{\"color\":\"white\"}},\"type\":\"table\"}],\"barpolar\":[{\"marker\":{\"line\":{\"color\":\"#E5ECF6\",\"width\":0.5},\"pattern\":{\"fillmode\":\"overlay\",\"size\":10,\"solidity\":0.2}},\"type\":\"barpolar\"}],\"pie\":[{\"automargin\":true,\"type\":\"pie\"}]},\"layout\":{\"autotypenumbers\":\"strict\",\"colorway\":[\"#636efa\",\"#EF553B\",\"#00cc96\",\"#ab63fa\",\"#FFA15A\",\"#19d3f3\",\"#FF6692\",\"#B6E880\",\"#FF97FF\",\"#FECB52\"],\"font\":{\"color\":\"#2a3f5f\"},\"hovermode\":\"closest\",\"hoverlabel\":{\"align\":\"left\"},\"paper_bgcolor\":\"white\",\"plot_bgcolor\":\"#E5ECF6\",\"polar\":{\"bgcolor\":\"#E5ECF6\",\"angularaxis\":{\"gridcolor\":\"white\",\"linecolor\":\"white\",\"ticks\":\"\"},\"radialaxis\":{\"gridcolor\":\"white\",\"linecolor\":\"white\",\"ticks\":\"\"}},\"ternary\":{\"bgcolor\":\"#E5ECF6\",\"aaxis\":{\"gridcolor\":\"white\",\"linecolor\":\"white\",\"ticks\":\"\"},\"baxis\":{\"gridcolor\":\"white\",\"linecolor\":\"white\",\"ticks\":\"\"},\"caxis\":{\"gridcolor\":\"white\",\"linecolor\":\"white\",\"ticks\":\"\"}},\"coloraxis\":{\"colorbar\":{\"outlinewidth\":0,\"ticks\":\"\"}},\"colorscale\":{\"sequential\":[[0.0,\"#0d0887\"],[0.1111111111111111,\"#46039f\"],[0.2222222222222222,\"#7201a8\"],[0.3333333333333333,\"#9c179e\"],[0.4444444444444444,\"#bd3786\"],[0.5555555555555556,\"#d8576b\"],[0.6666666666666666,\"#ed7953\"],[0.7777777777777778,\"#fb9f3a\"],[0.8888888888888888,\"#fdca26\"],[1.0,\"#f0f921\"]],\"sequentialminus\":[[0.0,\"#0d0887\"],[0.1111111111111111,\"#46039f\"],[0.2222222222222222,\"#7201a8\"],[0.3333333333333333,\"#9c179e\"],[0.4444444444444444,\"#bd3786\"],[0.5555555555555556,\"#d8576b\"],[0.6666666666666666,\"#ed7953\"],[0.7777777777777778,\"#fb9f3a\"],[0.8888888888888888,\"#fdca26\"],[1.0,\"#f0f921\"]],\"diverging\":[[0,\"#8e0152\"],[0.1,\"#c51b7d\"],[0.2,\"#de77ae\"],[0.3,\"#f1b6da\"],[0.4,\"#fde0ef\"],[0.5,\"#f7f7f7\"],[0.6,\"#e6f5d0\"],[0.7,\"#b8e186\"],[0.8,\"#7fbc41\"],[0.9,\"#4d9221\"],[1,\"#276419\"]]},\"xaxis\":{\"gridcolor\":\"white\",\"linecolor\":\"white\",\"ticks\":\"\",\"title\":{\"standoff\":15},\"zerolinecolor\":\"white\",\"automargin\":true,\"zerolinewidth\":2},\"yaxis\":{\"gridcolor\":\"white\",\"linecolor\":\"white\",\"ticks\":\"\",\"title\":{\"standoff\":15},\"zerolinecolor\":\"white\",\"automargin\":true,\"zerolinewidth\":2},\"scene\":{\"xaxis\":{\"backgroundcolor\":\"#E5ECF6\",\"gridcolor\":\"white\",\"linecolor\":\"white\",\"showbackground\":true,\"ticks\":\"\",\"zerolinecolor\":\"white\",\"gridwidth\":2},\"yaxis\":{\"backgroundcolor\":\"#E5ECF6\",\"gridcolor\":\"white\",\"linecolor\":\"white\",\"showbackground\":true,\"ticks\":\"\",\"zerolinecolor\":\"white\",\"gridwidth\":2},\"zaxis\":{\"backgroundcolor\":\"#E5ECF6\",\"gridcolor\":\"white\",\"linecolor\":\"white\",\"showbackground\":true,\"ticks\":\"\",\"zerolinecolor\":\"white\",\"gridwidth\":2}},\"shapedefaults\":{\"line\":{\"color\":\"#2a3f5f\"}},\"annotationdefaults\":{\"arrowcolor\":\"#2a3f5f\",\"arrowhead\":0,\"arrowwidth\":1},\"geo\":{\"bgcolor\":\"white\",\"landcolor\":\"#E5ECF6\",\"subunitcolor\":\"white\",\"showland\":true,\"showlakes\":true,\"lakecolor\":\"white\"},\"title\":{\"x\":0.05},\"mapbox\":{\"style\":\"light\"}}},\"legend\":{\"tracegroupgap\":0},\"margin\":{\"t\":60},\"height\":300,\"width\":400},                        {\"responsive\": true}                    ).then(function(){\n",
              "                            \n",
              "var gd = document.getElementById('3c1a2083-f3ca-4a71-98c5-779874b2545d');\n",
              "var x = new MutationObserver(function (mutations, observer) {{\n",
              "        var display = window.getComputedStyle(gd).display;\n",
              "        if (!display || display === 'none') {{\n",
              "            console.log([gd, 'removed!']);\n",
              "            Plotly.purge(gd);\n",
              "            observer.disconnect();\n",
              "        }}\n",
              "}});\n",
              "\n",
              "// Listen for the removal of the full notebook cells\n",
              "var notebookContainer = gd.closest('#notebook-container');\n",
              "if (notebookContainer) {{\n",
              "    x.observe(notebookContainer, {childList: true});\n",
              "}}\n",
              "\n",
              "// Listen for the clearing of the current output cell\n",
              "var outputEl = gd.closest('.output');\n",
              "if (outputEl) {{\n",
              "    x.observe(outputEl, {childList: true});\n",
              "}}\n",
              "\n",
              "                        })                };                            </script>        </div>\n",
              "</body>\n",
              "</html>"
            ]
          },
          "metadata": {}
        }
      ]
    }
  ],
  "metadata": {
    "colab": {
      "provenance": [],
      "authorship_tag": "ABX9TyOj20qUgdoM2EYlKT6qEUwy",
      "include_colab_link": true
    },
    "kernelspec": {
      "display_name": "Python 3",
      "name": "python3"
    },
    "language_info": {
      "name": "python"
    }
  },
  "nbformat": 4,
  "nbformat_minor": 0
}